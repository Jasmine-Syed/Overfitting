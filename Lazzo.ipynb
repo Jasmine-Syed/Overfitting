{
  "nbformat": 4,
  "nbformat_minor": 0,
  "metadata": {
    "colab": {
      "name": "Lazzo.ipynb",
      "provenance": [],
      "authorship_tag": "ABX9TyMkYTwUWdw/N8sUWi5q7jcV",
      "include_colab_link": true
    },
    "kernelspec": {
      "name": "python3",
      "display_name": "Python 3"
    }
  },
  "cells": [
    {
      "cell_type": "markdown",
      "metadata": {
        "id": "view-in-github",
        "colab_type": "text"
      },
      "source": [
        "<a href=\"https://colab.research.google.com/github/Jasmine-Syed/Overfitting/blob/main/Lazzo.ipynb\" target=\"_parent\"><img src=\"https://colab.research.google.com/assets/colab-badge.svg\" alt=\"Open In Colab\"/></a>"
      ]
    },
    {
      "cell_type": "markdown",
      "metadata": {
        "id": "rAo3PRDOV4bE"
      },
      "source": [
        "We will import the pandas and numpy module to handle the dataset and train_test_split module to create training and test datasets. \r\n",
        "\r\n",
        "The r2_score, sqrt and mean_squared_error modules are imported to calculate evaluation metrics. The lasso module from scikit-learn will be used to build our lasso regression model."
      ]
    },
    {
      "cell_type": "code",
      "metadata": {
        "id": "A2lG6i0hVxvi"
      },
      "source": [
        "## Load requried packages\r\n",
        "import pandas as pd\r\n",
        "import numpy as np\r\n",
        "from sklearn.metrics import r2_score\r\n",
        "from sklearn.metrics import mean_squared_error\r\n",
        "from math import sqrt\r\n",
        "from sklearn.linear_model import Lasso\r\n",
        "from sklearn.model_selection import train_test_split"
      ],
      "execution_count": 2,
      "outputs": []
    },
    {
      "cell_type": "markdown",
      "metadata": {
        "id": "vvLt5IxfWm0X"
      },
      "source": [
        "## Load and analyze the dataset given in the problem statement\r\n",
        "Let us load the dataset and analyze the basics like shape and summary statistics of the dataset."
      ]
    },
    {
      "cell_type": "code",
      "metadata": {
        "colab": {
          "base_uri": "https://localhost:8080/"
        },
        "id": "w6shhjI2V6iF",
        "outputId": "f00bbbe8-bb99-4fd9-9357-5b12ed26c489"
      },
      "source": [
        "## load dataset\r\n",
        "link = 'https://raw.githubusercontent.com/jbrownlee/Datasets/master/housing.csv'\r\n",
        "dataframe = pd.read_csv(link, header=None)\r\n",
        "# summarize shape\r\n",
        "print(dataframe.shape)\r\n",
        "# get information about the dataset\r\n",
        "print(dataframe.describe())\r\n"
      ],
      "execution_count": 3,
      "outputs": [
        {
          "output_type": "stream",
          "text": [
            "(506, 14)\n",
            "               0           1           2   ...          11          12          13\n",
            "count  506.000000  506.000000  506.000000  ...  506.000000  506.000000  506.000000\n",
            "mean     3.613524   11.363636   11.136779  ...  356.674032   12.653063   22.532806\n",
            "std      8.601545   23.322453    6.860353  ...   91.294864    7.141062    9.197104\n",
            "min      0.006320    0.000000    0.460000  ...    0.320000    1.730000    5.000000\n",
            "25%      0.082045    0.000000    5.190000  ...  375.377500    6.950000   17.025000\n",
            "50%      0.256510    0.000000    9.690000  ...  391.440000   11.360000   21.200000\n",
            "75%      3.677082   12.500000   18.100000  ...  396.225000   16.955000   25.000000\n",
            "max     88.976200  100.000000   27.740000  ...  396.900000   37.970000   50.000000\n",
            "\n",
            "[8 rows x 14 columns]\n"
          ],
          "name": "stdout"
        }
      ]
    },
    {
      "cell_type": "markdown",
      "metadata": {
        "id": "YSOrqht7WPe5"
      },
      "source": [
        "## Create training and test dataset\r\n",
        "We are going to split the dataset into a training set and test set. We will build our lasso model on the training set and evaluate it using our test set. \r\n",
        "\r\n",
        "Specify the input columns as X and the target column as Y and use the test_size argument in the train_test_split module to split the dataset. We are splitting our dataset into 70% training data and 30% test data here."
      ]
    },
    {
      "cell_type": "code",
      "metadata": {
        "colab": {
          "base_uri": "https://localhost:8080/"
        },
        "id": "6M2J4XLbWOaM",
        "outputId": "bb87352e-40f5-4c07-daf5-ec80519d0590"
      },
      "source": [
        "## Train and test dataset creation\r\n",
        "data = dataframe.values\r\n",
        "X, y = data[:, :-1], data[:, -1]\r\n",
        "Xtrain, Xtest, ytrain, ytest = train_test_split(X, y, test_size=0.30,\r\n",
        "random_state=40)\r\n",
        "print(Xtrain.shape)\r\n",
        "print(Xtest.shape)"
      ],
      "execution_count": 4,
      "outputs": [
        {
          "output_type": "stream",
          "text": [
            "(354, 13)\n",
            "(152, 13)\n"
          ],
          "name": "stdout"
        }
      ]
    },
    {
      "cell_type": "markdown",
      "metadata": {
        "id": "Nu5nqHitW2gG"
      },
      "source": [
        "## Build the model and find predictions for the test dataset\r\n",
        "Let us instantiate the lasso model and fit the model to the training set. We will use this fitted model to predict the housing prices for the training set and test set. "
      ]
    },
    {
      "cell_type": "code",
      "metadata": {
        "id": "g8tKs406W8Ng"
      },
      "source": [
        "## Build the lasso model with alpha\r\n",
        "\r\n",
        "model_lasso = Lasso(alpha=1)\r\n",
        "model_lasso.fit(Xtrain, ytrain)\r\n",
        "pred_train_lasso= model_lasso.predict(Xtrain)\r\n",
        "pred_test_lasso= model_lasso.predict(Xtest)"
      ],
      "execution_count": 5,
      "outputs": []
    },
    {
      "cell_type": "markdown",
      "metadata": {
        "id": "0U1iYSNNW___"
      },
      "source": [
        "## Evaluate the lasso model\r\n",
        "Evaluate the model by finding the RMSE and R-Square for both the training and test predictions."
      ]
    },
    {
      "cell_type": "code",
      "metadata": {
        "colab": {
          "base_uri": "https://localhost:8080/"
        },
        "id": "s2aiHu2oXF0P",
        "outputId": "b4464e20-8122-4050-e0a0-15c8dd4afc54"
      },
      "source": [
        "## Evaluate the lasso model\r\n",
        "print(np.sqrt(mean_squared_error(ytrain,pred_train_lasso)))\r\n",
        "print(r2_score(ytrain, pred_train_lasso))\r\n",
        "print(np.sqrt(mean_squared_error(ytest,pred_test_lasso)))\r\n",
        "print(r2_score(ytest, pred_test_lasso))"
      ],
      "execution_count": 6,
      "outputs": [
        {
          "output_type": "stream",
          "text": [
            "4.887113841773082\n",
            "0.6657249068677625\n",
            "6.379797782769904\n",
            "0.6439373929767929\n"
          ],
          "name": "stdout"
        }
      ]
    },
    {
      "cell_type": "markdown",
      "metadata": {
        "id": "t3abMMCOXJsZ"
      },
      "source": [
        "As you can see, we have set the lasso hyperparameter - alpha as 1 or a full penalty. This alpha value is giving us a decent RMSE as of now. But, there might be a different alpha value which can provide us with better results. \r\n",
        "\r\n",
        "Let us tune our model to check this. \r\n",
        "\r\n",
        "The sci-kit learn library has a built-in algorithm called LassoCV which will do the tuning for us. This algorithm will find the best alpha value and complete the model tuning simultaneously during training itself. Predictions can then be made using the fit model.\r\n",
        "\r\n",
        "By default, the model will do the tuning using 100 alpha values. We can control this by specifying the alphas argument with a grid of alpha values. The range of alpha values has been set between 0-1 with an interval of 0.02 in the below code."
      ]
    },
    {
      "cell_type": "code",
      "metadata": {
        "colab": {
          "base_uri": "https://localhost:8080/"
        },
        "id": "9z0j1UsVXkra",
        "outputId": "56c3515c-6716-4bb3-a19c-1ad3783aafc9"
      },
      "source": [
        "## Tunning lasso regression model\r\n",
        "\r\n",
        "from numpy import arange\r\n",
        "from sklearn.model_selection import RepeatedKFold\r\n",
        "import pandas as pd\r\n",
        "from sklearn.linear_model import LassoCV\r\n",
        "\r\n",
        "## load the dataset\r\n",
        "link = 'https://raw.githubusercontent.com/jbrownlee/Datasets/master/housing.csv'\r\n",
        "dataset = pd.read_csv(link, header=None)\r\n",
        "dataframe = dataset.values\r\n",
        "X, y = dataframe [:, :-1], dataframe [:, -1]\r\n",
        "Xtrain, Xtest, ytrain, ytest = train_test_split(X, y, test_size=0.30,\r\n",
        "random_state=40)\r\n",
        "\r\n",
        "## define model evaluation method\r\n",
        "cross_validation = RepeatedKFold(n_splits=10, n_repeats=3, random_state=1)\r\n",
        "\r\n",
        "## define model\r\n",
        "\r\n",
        "lasso_model = LassoCV(alphas=arange(0.1, 1, 0.02), cv=cross_validation , n_jobs=-1)\r\n",
        "\r\n",
        "## fit model\r\n",
        "lasso_model .fit(Xtrain, ytrain)\r\n",
        "## summarize chosen configuration\r\n",
        "print('alpha: %f' % lasso_model .alpha_)\r\n",
        "\r\n",
        "pred_train_lasso= lasso_model .predict(Xtrain)\r\n",
        "pred_test_lasso= lasso_model .predict(Xtest)\r\n",
        "print(np.sqrt(mean_squared_error(ytrain,pred_train_lasso)))\r\n",
        "print(r2_score(ytrain, pred_train_lasso))\r\n",
        "print(np.sqrt(mean_squared_error(ytest,pred_test_lasso)))\r\n",
        "print(r2_score(ytest, pred_test_lasso))\r\n"
      ],
      "execution_count": 12,
      "outputs": [
        {
          "output_type": "stream",
          "text": [
            "alpha: 0.100000\n",
            "4.409123726980954\n",
            "0.7279155769109467\n",
            "5.7263120023687915\n",
            "0.7131449135744071\n"
          ],
          "name": "stdout"
        }
      ]
    },
    {
      "cell_type": "markdown",
      "metadata": {
        "id": "Gyisx3NOXfer"
      },
      "source": [
        "LassoCV has chosen the best alpha value as 0.100, meaning zero penalty. You can see that the RMSE and R-Square scores have improved slightly with the alpha value selected."
      ]
    }
  ]
}